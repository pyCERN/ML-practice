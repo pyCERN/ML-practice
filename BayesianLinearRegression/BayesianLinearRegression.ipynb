{
 "cells": [
  {
   "cell_type": "markdown",
   "metadata": {},
   "source": [
    "# Bayesian Linear Regression"
   ]
  },
  {
   "cell_type": "markdown",
   "metadata": {},
   "source": [
    "- In the frequentist view, there is an issue of deciding the appropriate model complexity which is dependent on the number of basis functions.\n",
    "- By a Bayesian version of lienar regression, we can avoid overfitting induced by maximum likelihood."
   ]
  },
  {
   "cell_type": "code",
   "execution_count": 2,
   "metadata": {},
   "outputs": [],
   "source": [
    "import numpy as np\n",
    "import matplotlib.pyplot as plt\n",
    "import torch"
   ]
  },
  {
   "cell_type": "markdown",
   "metadata": {},
   "source": [
    "### Parameter distribution"
   ]
  },
  {
   "cell_type": "markdown",
   "metadata": {},
   "source": [
    "#### Prior distribution\n",
    "- Prior distribution over the model parameter $\\mathbf{w}$\n",
    "- $p(\\mathbf{w}) = N(\\mathbf{w}| \\mathbf{m_0}, \\mathbf{S_0})$ with initial mean $\\mathbf{m_0}$ and covariance $\\mathbf{S_0}$\n",
    "- Here, we simplify the problem with the assumption of zero-mean ($\\mathbf{m_0} = \\mathbf{0}$)) and isotropic Gaussian (precision parameter $\\alpha$)\n",
    "$$\n",
    "p(\\mathbf{w}| \\alpha) = \\mathcal{N}(\\mathbf{w}| \\mathbf{0}, \\alpha^{-1} \\mathbf{I})\n",
    "$$"
   ]
  },
  {
   "cell_type": "markdown",
   "metadata": {},
   "source": [
    "#### Posterior distribution\n",
    "- Calculate posterior distribution by multiplying the prior distribution by the likelihood function\n",
    "- Due to the choice of conjugate prior as Gaussian, the posterior will also be Gaussian"
   ]
  },
  {
   "cell_type": "markdown",
   "metadata": {},
   "source": [
    "### Data preparation"
   ]
  },
  {
   "cell_type": "code",
   "execution_count": 27,
   "metadata": {},
   "outputs": [],
   "source": [
    "data_size = 100\n",
    "a_0, a_1 = -0.3, 0.5\n",
    "x = np.random.uniform(low=0, high=2, size=data_size)\n",
    "np.random.shuffle(x)\n",
    "y = a_0*x + a_1"
   ]
  },
  {
   "cell_type": "code",
   "execution_count": 28,
   "metadata": {},
   "outputs": [
    {
     "data": {
      "text/plain": [
       "Text(0.5, 1.0, 'x-y data plot')"
      ]
     },
     "execution_count": 28,
     "metadata": {},
     "output_type": "execute_result"
    },
    {
     "data": {
      "image/png": "[encoded data removed]",
      "text/plain": [
       "<Figure size 432x288 with 1 Axes>"
      ]
     },
     "metadata": {
      "needs_background": "light"
     },
     "output_type": "display_data"
    }
   ],
   "source": [
    "plt.plot(x, y, '.b')\n",
    "plt.xlabel('x')\n",
    "plt.ylabel('y')\n",
    "plt.title('x-y data plot')"
   ]
  },
  {
   "cell_type": "markdown",
   "metadata": {},
   "source": [
    "### Noise parameter\n",
    "Here we add noise, $\\epsilon \\sim \\mathcal{N} (0, \\beta^{-1})$"
   ]
  },
  {
   "cell_type": "code",
   "execution_count": 31,
   "metadata": {},
   "outputs": [],
   "source": [
    "noise = 0.1 * np.random.normal(0, 0.1, *y.shape)\n",
    "y += noise"
   ]
  },
  {
   "cell_type": "code",
   "execution_count": 32,
   "metadata": {},
   "outputs": [
    {
     "data": {
      "text/plain": [
       "Text(0.5, 1.0, 'x-y data plot with noise')"
      ]
     },
     "execution_count": 32,
     "metadata": {},
     "output_type": "execute_result"
    },
    {
     "data": {
      "image/png": "[encoded data removed]",
      "text/plain": [
       "<Figure size 432x288 with 1 Axes>"
      ]
     },
     "metadata": {
      "needs_background": "light"
     },
     "output_type": "display_data"
    }
   ],
   "source": [
    "plt.plot(x, y, '.b')\n",
    "plt.xlabel('x')\n",
    "plt.ylabel('y')\n",
    "plt.title('x-y data plot with noise')"
   ]
  },
  {
   "cell_type": "markdown",
   "metadata": {},
   "source": [
    "### Linear regression in frequentist view\n",
    "With the assumption that data points are i.i.d, the likelihood function is as follows:\n",
    "\n",
    "\\begin{equation*}\n",
    "    p(\\mathbf{y} | X, \\mathbf{w}, \\beta) = \\prod_{n=1}^{N} \\mathcal{N} (y_n | \\mathbf{w}^{T} \\phi(x_n), \\beta^{-1})\n",
    "\\end{equation*}\n",
    "\n",
    "\\begin{align*}\n",
    "    \\ln {p(\\mathbf{y} | X, \\mathbf{w}, \\beta)} &= \\sum_{n=1}^{N} \\mathcal{N} (y_n | \\mathbf{w}^{T} \\phi(x_n), \\beta^{-1}) \\\\\n",
    "    &= \\frac{N}{2} \\ln \\beta - \\frac{N}{2} \\ln (2\\pi) - \\beta E_D(\\mathbf{w})\n",
    "\\end{align*}\n",
    "\n",
    "Minimizing sum-of-square error function leads to the maximization of the likelihood function.<br>\n",
    "\\begin{equation*}\n",
    "    E_D(w) = \\frac{1}{2} \\sum_{n=1}^{N} \\{y_n - w^{T} \\phi(x_n)\\}^{2}\n",
    "\\end{equation*}\n",
    "\n",
    "Solving the maximum log likelihood for $\\mathbf{w}$ we get\n",
    "\n",
    "\\begin{equation*}\n",
    "    \\mathbf{w}_{ML} = (\\Phi^{T} \\Phi)^{-1} \\Phi^{T} \\mathbf{y}\n",
    "\\end{equation*}\n",
    "\n",
    "where $\\Phi$ is a $N \\times M \\textit{design matrix}$,\n",
    "\n",
    "$\n",
    "\\Phi = \\begin{pmatrix}\n",
    "    \\phi_0 (x_1) & \\phi_1 (x_1) & \\dots  & \\phi_{M-1} (x_1) \\\\\n",
    "    \\phi_0 (x_2) & \\phi_1 (x_2) & \\dots  & \\phi_{M-1} (x_2) \\\\\n",
    "    \\vdots       & \\vdots       & \\ddots & \\dots            \\\\\n",
    "    \\phi_0 (x_N) & \\phi_1 (x_N) & \\dots  & \\phi_{M-1} (x_N) \\\\\n",
    "\\end{pmatrix}\n",
    "$\n"
   ]
  },
  {
   "cell_type": "markdown",
   "metadata": {},
   "source": [
    "#### Gaussian basis function\n",
    "\n",
    "\\begin{equation*}\n",
    "    \\phi_j = \\exp \\Big(-\\frac{x-\\mu_j}{2s^2} \\Big)\n",
    "\\end{equation*}\n",
    "\n",
    "where $\\mu_j$ and $s$ determine the location (input $X$) and the spatial size of the input space."
   ]
  },
  {
   "cell_type": "code",
   "execution_count": null,
   "metadata": {},
   "outputs": [],
   "source": [
    "def phi(x):\n",
    "    s = 0.1\n",
    "    return np.exp"
   ]
  }
 ],
 "metadata": {
  "interpreter": {
   "hash": "52ee2977380704a66854748a73250e0671a9318bd5b3fd45a3df9f851ae61629"
  },
  "kernelspec": {
   "display_name": "Python 3.8.12 ('tf')",
   "language": "python",
   "name": "python3"
  },
  "language_info": {
   "codemirror_mode": {
    "name": "ipython",
    "version": 3
   },
   "file_extension": ".py",
   "mimetype": "text/x-python",
   "name": "python",
   "nbconvert_exporter": "python",
   "pygments_lexer": "ipython3",
   "version": "3.8.12"
  },
  "orig_nbformat": 4
 },
 "nbformat": 4,
 "nbformat_minor": 2
}
